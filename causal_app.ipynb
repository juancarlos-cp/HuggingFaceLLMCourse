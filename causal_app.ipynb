{
 "cells": [
  {
   "cell_type": "code",
   "execution_count": 1,
   "id": "fc637f1f",
   "metadata": {},
   "outputs": [],
   "source": [
    "from transformers import (\n",
    "        AutoTokenizer,\n",
    "        AutoModelForCausalLM,\n",
    ")\n"
   ]
  },
  {
   "cell_type": "code",
   "execution_count": 2,
   "id": "8642a741",
   "metadata": {},
   "outputs": [],
   "source": [
    "model_path = \"./models/causal_python\"\n",
    "model = AutoModelForCausalLM.from_pretrained(model_path)\n",
    "tokenizer = AutoTokenizer.from_pretrained(model_path)\n"
   ]
  },
  {
   "cell_type": "code",
   "execution_count": 3,
   "id": "c07514cc",
   "metadata": {},
   "outputs": [],
   "source": [
    "def predict_python(starter_code):\n",
    "    inputs = tokenizer(starter_code, return_tensors=\"pt\")\n",
    "    outputs = model.generate(\n",
    "        **inputs,\n",
    "        max_length=128,\n",
    "        num_beams=4,\n",
    "        decoder_start_token_id = model.config.decoder_start_token_id\n",
    "    )\n",
    "    next_line = tokenizer.decode(outputs[0], skip_special_tokens=True)\n",
    "    return next_line"
   ]
  },
  {
   "cell_type": "code",
   "execution_count": 4,
   "id": "865978d0",
   "metadata": {},
   "outputs": [],
   "source": [
    "txt = \"\"\"\\\n",
    "# create some data\n",
    "x = np.random.randn(100)\n",
    "y = np.random.randn(100)\n",
    "\n",
    "# create scatter plot with x, y\n",
    "\"\"\""
   ]
  },
  {
   "cell_type": "code",
   "execution_count": 6,
   "id": "8944fdd7",
   "metadata": {},
   "outputs": [
    {
     "name": "stderr",
     "output_type": "stream",
     "text": [
      "Setting `pad_token_id` to `eos_token_id`:0 for open-end generation.\n"
     ]
    },
    {
     "name": "stdout",
     "output_type": "stream",
     "text": [
      "# create some data\n",
      "x = np.random.randn(100)\n",
      "y = np.random.randn(100)\n",
      "\n",
      "# create scatter plot with x, y\n",
      "x = np.random.randn(100)\n",
      "x = np.random.randn(100)\n",
      "y = np.random.randn(100)\n",
      "y = np.random.randn(100)\n",
      "y = np.random.normal(size=100)\n",
      "\n",
      "# plot the data\n",
      "x = np.random.normal(size=100)\n",
      "x = np.random.normal(size=100)\n",
      "\n",
      "#\n"
     ]
    }
   ],
   "source": [
    "print(predict_python(txt))"
   ]
  },
  {
   "cell_type": "code",
   "execution_count": 7,
   "id": "2158f9b9",
   "metadata": {},
   "outputs": [],
   "source": [
    "txt = \"\"\"\\\n",
    "# dataframe with profession, income and name\n",
    "df = pd.DataFrame({'profession': x, 'income':y, 'name': z})\n",
    "\n",
    "# calculate the mean income per profession\n",
    "\"\"\""
   ]
  },
  {
   "cell_type": "code",
   "execution_count": 8,
   "id": "ebb1a744",
   "metadata": {},
   "outputs": [
    {
     "name": "stderr",
     "output_type": "stream",
     "text": [
      "Setting `pad_token_id` to `eos_token_id`:0 for open-end generation.\n"
     ]
    },
    {
     "name": "stdout",
     "output_type": "stream",
     "text": [
      "# dataframe with profession, income and name\n",
      "df = pd.DataFrame({'profession': x, 'income':y, 'name': z})\n",
      "\n",
      "# calculate the mean income per profession\n",
      "df = pd.DataFrame({'x': [1, 2], 'y': [1, 2], 'y': [1, 2], 'y': [1, 2], 'y': [1, 2], 'y': [1, 2], 'y': [1, 2], 'y': [1, 2], 'y': [1, 2], 'y': [1,\n"
     ]
    }
   ],
   "source": [
    "print(predict_python(txt))"
   ]
  }
 ],
 "metadata": {
  "kernelspec": {
   "display_name": ".venv",
   "language": "python",
   "name": "python3"
  },
  "language_info": {
   "codemirror_mode": {
    "name": "ipython",
    "version": 3
   },
   "file_extension": ".py",
   "mimetype": "text/x-python",
   "name": "python",
   "nbconvert_exporter": "python",
   "pygments_lexer": "ipython3",
   "version": "3.12.3"
  }
 },
 "nbformat": 4,
 "nbformat_minor": 5
}
