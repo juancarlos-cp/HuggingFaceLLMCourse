{
 "cells": [
  {
   "cell_type": "code",
   "execution_count": 9,
   "id": "c95ec1ea",
   "metadata": {},
   "outputs": [],
   "source": [
    "from transformers import (\n",
    "        AutoTokenizer,\n",
    "        AutoModelForSeq2SeqLM,\n",
    ")\n"
   ]
  },
  {
   "cell_type": "code",
   "execution_count": 10,
   "id": "adc26eca",
   "metadata": {},
   "outputs": [],
   "source": [
    "model_path = './models/flan-t5-small-xsum'\n",
    "model = AutoModelForSeq2SeqLM.from_pretrained(model_path)\n",
    "tokenizer = AutoTokenizer.from_pretrained(model_path)"
   ]
  },
  {
   "cell_type": "code",
   "execution_count": 11,
   "id": "0730cbcf",
   "metadata": {},
   "outputs": [],
   "source": [
    "def clean_text(example):\n",
    "    cleaned_article = example[\"document\"].replace('\\n', ' ').strip()\n",
    "    cleaned_summary = example[\"summary\"].replace('\\n', ' ').strip()\n",
    "    return {\n",
    "        \"document\": cleaned_article,\n",
    "        \"summary\": cleaned_summary\n",
    "    }\n"
   ]
  },
  {
   "cell_type": "code",
   "execution_count": 12,
   "id": "3e2016bd",
   "metadata": {},
   "outputs": [],
   "source": [
    "from datasets import load_from_disk\n",
    "dataset = load_from_disk(\"./data/EdinburghNLP-xsum\")[\"test\"]"
   ]
  },
  {
   "cell_type": "code",
   "execution_count": 13,
   "id": "db41c374",
   "metadata": {},
   "outputs": [],
   "source": [
    "max_input_length = 512\n",
    "max_target_length = 64\n",
    "\n",
    "dataset = dataset.filter(lambda x: len(x['document']) < max_input_length)\n",
    "dataset = dataset.map(clean_text)\n"
   ]
  },
  {
   "cell_type": "code",
   "execution_count": 15,
   "id": "a391228d",
   "metadata": {},
   "outputs": [
    {
     "data": {
      "text/plain": [
       "{'document': 'Officers searched properties in the Waterfront Park and Colonsay View areas of the city on Wednesday. Detectives said three firearms, ammunition and a five-figure sum of money were recovered. A 26-year-old man who was arrested and charged appeared at Edinburgh Sheriff Court on Thursday.',\n",
       " 'summary': 'A man has appeared in court after firearms, ammunition and cash were seized by police in Edinburgh.',\n",
       " 'id': '34227252'}"
      ]
     },
     "execution_count": 15,
     "metadata": {},
     "output_type": "execute_result"
    }
   ],
   "source": [
    "dataset[0]"
   ]
  },
  {
   "cell_type": "code",
   "execution_count": 16,
   "id": "36735c70",
   "metadata": {},
   "outputs": [],
   "source": [
    "def print_summary(idx):\n",
    "    example = dataset[idx]\n",
    "    article = example['document']\n",
    "    summary = example['summary']\n",
    "    inputs = tokenizer(article, return_tensors=\"pt\")\n",
    "    outputs = model.generate(\n",
    "        **inputs,\n",
    "        max_length=128,\n",
    "        num_beams=4,\n",
    "        decoder_start_token_id = model.config.decoder_start_token_id\n",
    "    )\n",
    "    prediction = tokenizer.decode(outputs[0], skip_special_tokens=True)\n",
    "\n",
    "    print(f\"'>>> Article: {article}'\")\n",
    "    print(f\"\\n'>>> Prediction: {prediction}'\")\n",
    "    print(f\"\\n'>>> Summary: {summary}'\")\n"
   ]
  },
  {
   "cell_type": "code",
   "execution_count": 19,
   "id": "5ec2b462",
   "metadata": {},
   "outputs": [
    {
     "name": "stdout",
     "output_type": "stream",
     "text": [
      "'>>> Article: The device was discovered on Foreglen Road on Wednesday morning following a telephone call to a local hospital. The road has reopened after a security alert in the area. The device was taken away for forensic examination. Det Insp Bob Blemmings said: \"We appreciate that the alert caused traffic disruption and are grateful for the patience and support shown by the community and commuters.\"'\n",
      "\n",
      "'>>> Prediction: A lorry has been reopened after a device was found on a road in Aberdeenshire.'\n",
      "\n",
      "'>>> Summary: The PSNI have found a \"viable\" pipe bomb in Dungiven, County Londonderry.'\n"
     ]
    }
   ],
   "source": [
    "print_summary(117)"
   ]
  }
 ],
 "metadata": {
  "kernelspec": {
   "display_name": ".venv",
   "language": "python",
   "name": "python3"
  },
  "language_info": {
   "codemirror_mode": {
    "name": "ipython",
    "version": 3
   },
   "file_extension": ".py",
   "mimetype": "text/x-python",
   "name": "python",
   "nbconvert_exporter": "python",
   "pygments_lexer": "ipython3",
   "version": "3.12.3"
  }
 },
 "nbformat": 4,
 "nbformat_minor": 5
}
