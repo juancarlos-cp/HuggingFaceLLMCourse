{
 "cells": [
  {
   "cell_type": "code",
   "execution_count": 1,
   "id": "6be451b6",
   "metadata": {},
   "outputs": [],
   "source": [
    "import json\n",
    "import re\n",
    "from typing import Optional\n",
    "\n",
    "from jinja2 import Template\n",
    "from transformers import AutoTokenizer, AutoModelForCausalLM\n",
    "from transformers.utils import get_json_schema"
   ]
  },
  {
   "cell_type": "code",
   "execution_count": 2,
   "id": "922afa01",
   "metadata": {},
   "outputs": [
    {
     "name": "stdout",
     "output_type": "stream",
     "text": [
      "cuda\n"
     ]
    }
   ],
   "source": [
    "import torch\n",
    "\n",
    "device = torch.device(\"cuda\") if torch.cuda.is_available() else torch.device(\"cpu\")\n",
    "print(device)"
   ]
  },
  {
   "cell_type": "code",
   "execution_count": 3,
   "id": "a4dbfeca",
   "metadata": {},
   "outputs": [],
   "source": [
    "system_prompt = Template(\"\"\"You are an expert in composing functions. You are given a question and a set of possible functions. \n",
    "Based on the question, you will need to make one or more function/tool calls to achieve the purpose. \n",
    "If none of the functions can be used, point it out and refuse to answer. \n",
    "If the given question lacks the parameters required by the function, also point it out.\n",
    "\n",
    "You have access to the following tools:\n",
    "<tools>{{ tools }}</tools>\n",
    "\n",
    "The output MUST strictly adhere to the following format, and NO other text MUST be included.\n",
    "The example format is as follows. Please make sure the parameter type is correct. If no function call is needed, please make the tool calls an empty list '[]'.\n",
    "<tool_call>[\n",
    "{\"name\": \"func_name1\", \"arguments\": {\"argument1\": \"value1\", \"argument2\": \"value2\"}},\n",
    "... (more tool calls as required)\n",
    "]</tool_call>\"\"\")"
   ]
  },
  {
   "cell_type": "code",
   "execution_count": 3,
   "id": "d0be775d",
   "metadata": {},
   "outputs": [],
   "source": [
    "system_prompt = Template(\"\"\"You are a helpful assistant. \n",
    "You may answer questions directly OR decide to use one or more tools if that is the best way to help.\n",
    "\n",
    "You have access to the following tools:\n",
    "<tools>{{ tools }}</tools>\n",
    "                         \n",
    "Before using a tool, STOP and ask:\n",
    "- Is there a tool that matches my goal exactly?\n",
    "- Are all required parameters available?\n",
    "\n",
    "Only if both are true, proceed to the tool call.  Otherwise, answer the query directly.\n",
    "\n",
    "If a tool is appropriate and all required parameters are available, respond in the following format:\n",
    "                           \n",
    "The example format is as follows. Please make sure the parameter type is correct. If no function call is needed, please make the tool calls an empty list '[]'.\n",
    "<tool_call>[\n",
    "{\"name\": \"func_name1\", \"arguments\": {\"argument1\": \"value1\", \"argument2\": \"value2\"}},\n",
    "... (more tool calls as required)\n",
    "]</tool_call>\n",
    "\n",
    "Only use functions that are listed above in the <tools> block. \n",
    "Do not invent or guess function names.\n",
    "\n",
    "If none of the above tools are appropriate, return: <tool_call>[]</tool_call> and then answer directly.\n",
    "\n",
    "\"\"\")"
   ]
  },
  {
   "cell_type": "code",
   "execution_count": null,
   "id": "1322df98",
   "metadata": {},
   "outputs": [],
   "source": [
    "system_prompt.render()"
   ]
  },
  {
   "cell_type": "code",
   "execution_count": 4,
   "id": "d4698e29",
   "metadata": {},
   "outputs": [
    {
     "data": {
      "text/plain": [
       "LlamaForCausalLM(\n",
       "  (model): LlamaModel(\n",
       "    (embed_tokens): Embedding(49152, 2048, padding_idx=2)\n",
       "    (layers): ModuleList(\n",
       "      (0-23): 24 x LlamaDecoderLayer(\n",
       "        (self_attn): LlamaAttention(\n",
       "          (q_proj): Linear(in_features=2048, out_features=2048, bias=False)\n",
       "          (k_proj): Linear(in_features=2048, out_features=2048, bias=False)\n",
       "          (v_proj): Linear(in_features=2048, out_features=2048, bias=False)\n",
       "          (o_proj): Linear(in_features=2048, out_features=2048, bias=False)\n",
       "        )\n",
       "        (mlp): LlamaMLP(\n",
       "          (gate_proj): Linear(in_features=2048, out_features=8192, bias=False)\n",
       "          (up_proj): Linear(in_features=2048, out_features=8192, bias=False)\n",
       "          (down_proj): Linear(in_features=8192, out_features=2048, bias=False)\n",
       "          (act_fn): SiLU()\n",
       "        )\n",
       "        (input_layernorm): LlamaRMSNorm((2048,), eps=1e-05)\n",
       "        (post_attention_layernorm): LlamaRMSNorm((2048,), eps=1e-05)\n",
       "      )\n",
       "    )\n",
       "    (norm): LlamaRMSNorm((2048,), eps=1e-05)\n",
       "    (rotary_emb): LlamaRotaryEmbedding()\n",
       "  )\n",
       "  (lm_head): Linear(in_features=2048, out_features=49152, bias=False)\n",
       ")"
      ]
     },
     "execution_count": 4,
     "metadata": {},
     "output_type": "execute_result"
    }
   ],
   "source": [
    "# model_id = \"tiiuae/falcon-h1-1.5b-deep-instruct\" # uses mamba, doesn't work\n",
    "# model_id = \"TinyLlama/TinyLlama-1.1B-Chat-v1.0\" # doesn't work\n",
    "# model_id = \"mistralai/Mistral-7B-Instruct-v0.3\" # gated\n",
    "model_id = \"HuggingFaceTB/SmolLM2-1.7B-Instruct\"\n",
    "\n",
    "tokenizer = AutoTokenizer.from_pretrained(model_id)\n",
    "\n",
    "model = AutoModelForCausalLM.from_pretrained(\n",
    "    model_id,\n",
    "    torch_dtype=torch.float16,\n",
    ")\n",
    "\n",
    "model.to(device)"
   ]
  },
  {
   "cell_type": "code",
   "execution_count": 5,
   "id": "94ff9f6b",
   "metadata": {},
   "outputs": [
    {
     "data": {
      "text/plain": [
       "\"{% for message in messages %}{% if loop.first and messages[0]['role'] != 'system' %}{{ '<|im_start|>system\\nYou are a helpful AI assistant named SmolLM, trained by Hugging Face<|im_end|>\\n' }}{% endif %}{{'<|im_start|>' + message['role'] + '\\n' + message['content'] + '<|im_end|>' + '\\n'}}{% endfor %}{% if add_generation_prompt %}{{ '<|im_start|>assistant\\n' }}{% endif %}\""
      ]
     },
     "execution_count": 5,
     "metadata": {},
     "output_type": "execute_result"
    }
   ],
   "source": [
    "tokenizer.chat_template"
   ]
  },
  {
   "cell_type": "code",
   "execution_count": 6,
   "id": "b40335d7",
   "metadata": {},
   "outputs": [],
   "source": [
    "def prepare_messages(\n",
    "    query: str,\n",
    "    tools: Optional[dict[str, any]] = None,\n",
    "    history: Optional[list[dict[str, str]]] = None\n",
    ") -> list[dict[str, str]]:\n",
    "    \"\"\"Prepare the system and user messages for the given query and tools.\n",
    "    \n",
    "    Args:\n",
    "        query: The query to be answered.\n",
    "        tools: The tools available to the user. Defaults to None, in which case if a\n",
    "            list without content will be passed to the model.\n",
    "        history: Exchange of messages, including the system_prompt from\n",
    "            the first query. Defaults to None, the first message in a conversation.\n",
    "    \"\"\"\n",
    "    if tools is None:\n",
    "        tools = []\n",
    "    if history:\n",
    "        messages = history.copy()\n",
    "        messages.append({\"role\": \"user\", \"content\": query})\n",
    "    else:\n",
    "        messages = [\n",
    "            {\"role\": \"system\", \"content\": system_prompt.render(tools=json.dumps(tools))},\n",
    "            {\"role\": \"user\", \"content\": query}\n",
    "        ]\n",
    "    return messages\n"
   ]
  },
  {
   "cell_type": "code",
   "execution_count": 7,
   "id": "5f688c06",
   "metadata": {},
   "outputs": [],
   "source": [
    "def parse_response(text: str) -> str | dict[str, any]:\n",
    "    \"\"\"Parses a response from the model, returning either the\n",
    "    parsed list with the tool calls parsed, or the\n",
    "    model thought or response if couldn't generate one.\n",
    "\n",
    "    Args:\n",
    "        text: Response from the model.\n",
    "    \"\"\"\n",
    "    pattern = r\"<tool_call>(.*?)</tool_call>\"\n",
    "    matches = re.findall(pattern, text, re.DOTALL)\n",
    "    if matches:\n",
    "        return json.loads(matches[0])\n",
    "    return text"
   ]
  },
  {
   "cell_type": "code",
   "execution_count": 8,
   "id": "62cc951f",
   "metadata": {},
   "outputs": [],
   "source": [
    "from datetime import datetime\n",
    "import random\n",
    "\n",
    "def get_current_time() -> str:\n",
    "    \"\"\"Returns the current time in 24-hour format.\n",
    "\n",
    "    Returns:\n",
    "        str: Current time in HH:MM:SS format.\n",
    "    \"\"\"\n",
    "    return datetime.now().strftime(\"%H:%M:%S\")\n",
    "\n",
    "\n",
    "def get_random_number_between(min: int, max: int) -> int:\n",
    "    \"\"\"\n",
    "    Gets a random number between min and max.\n",
    "\n",
    "    Args:\n",
    "        min: The minimum number.\n",
    "        max: The maximum number.\n",
    "\n",
    "    Returns:\n",
    "        A random number between min and max.\n",
    "    \"\"\"\n",
    "    return random.randint(min, max)"
   ]
  },
  {
   "cell_type": "code",
   "execution_count": 9,
   "id": "ad7f3baf",
   "metadata": {},
   "outputs": [],
   "source": [
    "tools = [get_json_schema(get_random_number_between), get_json_schema(get_current_time)]\n",
    "\n",
    "toolbox = {\"get_random_number_between\": get_random_number_between, \"get_current_time\": get_current_time}"
   ]
  },
  {
   "cell_type": "code",
   "execution_count": 10,
   "id": "a26f034a",
   "metadata": {},
   "outputs": [
    {
     "data": {
      "text/plain": [
       "[{'type': 'function',\n",
       "  'function': {'name': 'get_random_number_between',\n",
       "   'description': 'Gets a random number between min and max.',\n",
       "   'parameters': {'type': 'object',\n",
       "    'properties': {'min': {'type': 'integer',\n",
       "      'description': 'The minimum number.'},\n",
       "     'max': {'type': 'integer', 'description': 'The maximum number.'}},\n",
       "    'required': ['min', 'max']},\n",
       "   'return': {'type': 'integer',\n",
       "    'description': 'A random number between min and max.'}}},\n",
       " {'type': 'function',\n",
       "  'function': {'name': 'get_current_time',\n",
       "   'description': 'Returns the current time in 24-hour format.',\n",
       "   'parameters': {'type': 'object', 'properties': {}},\n",
       "   'return': {'type': 'string',\n",
       "    'description': 'str: Current time in HH:MM:SS format.'}}}]"
      ]
     },
     "execution_count": 10,
     "metadata": {},
     "output_type": "execute_result"
    }
   ],
   "source": [
    "tools"
   ]
  },
  {
   "cell_type": "code",
   "execution_count": null,
   "id": "28ea0155",
   "metadata": {},
   "outputs": [],
   "source": [
    "toolbox"
   ]
  },
  {
   "cell_type": "code",
   "execution_count": 9,
   "id": "55eee9d5",
   "metadata": {},
   "outputs": [],
   "source": [
    "# query = \"Give me a number between 1 and 300\"\n",
    "# query = \"Why does it hurt when I pee?\"\n",
    "# query = \"What is the weather in Tampa, FL?\"\n",
    "query = \"Where is Bok Tower?\""
   ]
  },
  {
   "cell_type": "code",
   "execution_count": 10,
   "id": "b19deeab",
   "metadata": {},
   "outputs": [],
   "source": [
    "messages = prepare_messages(query, tools=tools)"
   ]
  },
  {
   "cell_type": "code",
   "execution_count": 11,
   "id": "03303d7a",
   "metadata": {},
   "outputs": [
    {
     "data": {
      "text/plain": [
       "[{'role': 'system',\n",
       "  'content': 'You are a helpful assistant. \\nYou may answer questions directly OR decide to use one or more tools if that is the best way to help.\\n\\nYou have access to the following tools:\\n<tools>[{\"type\": \"function\", \"function\": {\"name\": \"get_random_number_between\", \"description\": \"Gets a random number between min and max.\", \"parameters\": {\"type\": \"object\", \"properties\": {\"min\": {\"type\": \"integer\", \"description\": \"The minimum number.\"}, \"max\": {\"type\": \"integer\", \"description\": \"The maximum number.\"}}, \"required\": [\"min\", \"max\"]}, \"return\": {\"type\": \"integer\", \"description\": \"A random number between min and max.\"}}}, {\"type\": \"function\", \"function\": {\"name\": \"get_current_time\", \"description\": \"Returns the current time in 24-hour format.\", \"parameters\": {\"type\": \"object\", \"properties\": {}}, \"return\": {\"type\": \"string\", \"description\": \"str: Current time in HH:MM:SS format.\"}}}]</tools>\\n\\nBefore using a tool, STOP and ask:\\n- Is there a tool that matches my goal exactly?\\n- Are all required parameters available?\\n\\nOnly if both are true, proceed to the tool call.  Otherwise, answer the query directly.\\n\\nIf a tool is appropriate and all required parameters are available, respond in the following format:\\n\\nThe example format is as follows. Please make sure the parameter type is correct. If no function call is needed, please make the tool calls an empty list \\'[]\\'.\\n<tool_call>[\\n{\"name\": \"func_name1\", \"arguments\": {\"argument1\": \"value1\", \"argument2\": \"value2\"}},\\n... (more tool calls as required)\\n]</tool_call>\\n\\nOnly use functions that are listed above in the <tools> block. \\nDo not invent or guess function names.\\n\\nIf none of the above tools are appropriate, return: <tool_call>[]</tool_call> and then answer directly.\\n'},\n",
       " {'role': 'user', 'content': 'Where is Bok Tower?'}]"
      ]
     },
     "execution_count": 11,
     "metadata": {},
     "output_type": "execute_result"
    }
   ],
   "source": [
    "messages"
   ]
  },
  {
   "cell_type": "code",
   "execution_count": null,
   "id": "2016b458",
   "metadata": {},
   "outputs": [],
   "source": [
    "messages = [{'role': 'system',\n",
    "  'content': 'You are a helpful LLM.'},\n",
    " {'role': 'user', 'content': 'Why does it hurt when I pee?'}]"
   ]
  },
  {
   "cell_type": "code",
   "execution_count": 12,
   "id": "fc87276f",
   "metadata": {},
   "outputs": [],
   "source": [
    "inputs = tokenizer.apply_chat_template(\n",
    "    messages, \n",
    "    add_generation_prompt=True, \n",
    "    return_tensors=\"pt\"\n",
    ").to(device)"
   ]
  },
  {
   "cell_type": "code",
   "execution_count": 13,
   "id": "a72c8c96",
   "metadata": {},
   "outputs": [
    {
     "name": "stderr",
     "output_type": "stream",
     "text": [
      "The attention mask is not set and cannot be inferred from input because pad token is same as eos token. As a consequence, you may observe unexpected behavior. Please pass your input's `attention_mask` to obtain reliable results.\n"
     ]
    }
   ],
   "source": [
    "outputs = model.generate(\n",
    "    inputs, \n",
    "    max_new_tokens=512, \n",
    "    do_sample=False, \n",
    "    num_return_sequences=1, \n",
    "    # eos_token_id=tokenizer.eos_token_id\n",
    "    )"
   ]
  },
  {
   "cell_type": "code",
   "execution_count": 14,
   "id": "55563bbc",
   "metadata": {},
   "outputs": [],
   "source": [
    "result = tokenizer.decode(outputs[0][len(inputs[0]):], skip_special_tokens=True)"
   ]
  },
  {
   "cell_type": "code",
   "execution_count": 15,
   "id": "07742c91",
   "metadata": {},
   "outputs": [
    {
     "data": {
      "text/plain": [
       "'<tool_call>[{\"name\": \"get_current_time\", \"arguments\": {}}]</tool_call>'"
      ]
     },
     "execution_count": 15,
     "metadata": {},
     "output_type": "execute_result"
    }
   ],
   "source": [
    "result"
   ]
  },
  {
   "cell_type": "code",
   "execution_count": null,
   "id": "280fb978",
   "metadata": {},
   "outputs": [],
   "source": [
    "tokenizer.decode(outputs[0][len(inputs[0]):], skip_special_tokens=False)"
   ]
  },
  {
   "cell_type": "code",
   "execution_count": null,
   "id": "65cd2613",
   "metadata": {},
   "outputs": [],
   "source": [
    "tool_calls = parse_response(result)"
   ]
  },
  {
   "cell_type": "code",
   "execution_count": null,
   "id": "f6fe7460",
   "metadata": {},
   "outputs": [],
   "source": [
    "tool_calls"
   ]
  },
  {
   "cell_type": "code",
   "execution_count": null,
   "id": "49d5b513",
   "metadata": {},
   "outputs": [],
   "source": [
    "tool_responses = [toolbox.get(tc[\"name\"])(*tc[\"arguments\"].values()) for tc in tool_calls]"
   ]
  },
  {
   "cell_type": "code",
   "execution_count": null,
   "id": "65a4bf3c",
   "metadata": {},
   "outputs": [],
   "source": [
    "tool_responses"
   ]
  },
  {
   "cell_type": "code",
   "execution_count": null,
   "id": "e32f5b47",
   "metadata": {},
   "outputs": [],
   "source": [
    "history = messages.copy()"
   ]
  },
  {
   "cell_type": "code",
   "execution_count": null,
   "id": "e0b8502b",
   "metadata": {},
   "outputs": [],
   "source": [
    "history"
   ]
  },
  {
   "cell_type": "code",
   "execution_count": null,
   "id": "9152f999",
   "metadata": {},
   "outputs": [],
   "source": [
    "history.append({\"role\": \"assistant\", \"content\": result})\n",
    "# history.append({\"role\": \"assistant\", \"content\": str(tool_responses[0])})"
   ]
  },
  {
   "cell_type": "code",
   "execution_count": null,
   "id": "6578bcae",
   "metadata": {},
   "outputs": [],
   "source": [
    "query = \"Can you give me the current time?\"\n",
    "history.append({\"role\": \"user\", \"content\": query})"
   ]
  },
  {
   "cell_type": "code",
   "execution_count": null,
   "id": "c874a68a",
   "metadata": {},
   "outputs": [],
   "source": [
    "inputs = tokenizer.apply_chat_template(history, add_generation_prompt=True, return_tensors=\"pt\").to(device)\n",
    "outputs = model.generate(inputs, max_new_tokens=512, do_sample=False, num_return_sequences=1)\n",
    "result = tokenizer.decode(outputs[0][len(inputs[0]):], skip_special_tokens=True)\n",
    "\n",
    "tool_calls = parse_response(result)\n",
    "tool_responses = [toolbox.get(tc[\"name\"])(*tc[\"arguments\"].values()) for tc in tool_calls]"
   ]
  },
  {
   "cell_type": "code",
   "execution_count": null,
   "id": "5a1e3042",
   "metadata": {},
   "outputs": [],
   "source": [
    "result"
   ]
  },
  {
   "cell_type": "code",
   "execution_count": null,
   "id": "31a377f3",
   "metadata": {},
   "outputs": [],
   "source": [
    "tool_responses"
   ]
  },
  {
   "cell_type": "code",
   "execution_count": null,
   "id": "4fbc1e29",
   "metadata": {},
   "outputs": [],
   "source": [
    "history.append({\"role\": \"assistant\", \"content\": result})\n",
    "# history.append({\"role\": \"assistant\", \"content\": str(tool_responses[0])})"
   ]
  },
  {
   "cell_type": "code",
   "execution_count": null,
   "id": "584b230c",
   "metadata": {},
   "outputs": [],
   "source": [
    "history"
   ]
  },
  {
   "cell_type": "code",
   "execution_count": null,
   "id": "149960ee",
   "metadata": {},
   "outputs": [],
   "source": [
    "# what if there is no tool call?  I am not checking for that I think."
   ]
  },
  {
   "cell_type": "code",
   "execution_count": null,
   "id": "0968131e",
   "metadata": {},
   "outputs": [],
   "source": [
    "tool_calls_list = []\n",
    "\n",
    "for item in history:\n",
    "    if item['role'] == 'assistant':\n",
    "        print(parse_response(item['content']))\n",
    "    "
   ]
  },
  {
   "cell_type": "code",
   "execution_count": null,
   "id": "d9e960cc",
   "metadata": {},
   "outputs": [],
   "source": []
  }
 ],
 "metadata": {
  "kernelspec": {
   "display_name": ".venv",
   "language": "python",
   "name": "python3"
  },
  "language_info": {
   "codemirror_mode": {
    "name": "ipython",
    "version": 3
   },
   "file_extension": ".py",
   "mimetype": "text/x-python",
   "name": "python",
   "nbconvert_exporter": "python",
   "pygments_lexer": "ipython3",
   "version": "3.12.3"
  }
 },
 "nbformat": 4,
 "nbformat_minor": 5
}
