{
 "cells": [
  {
   "cell_type": "code",
   "execution_count": 1,
   "id": "edf2f568",
   "metadata": {},
   "outputs": [],
   "source": [
    "from transformers import (\n",
    "        AutoTokenizer,\n",
    "        AutoModelForSeq2SeqLM,\n",
    ")\n"
   ]
  },
  {
   "cell_type": "code",
   "execution_count": 2,
   "id": "1e131f33",
   "metadata": {},
   "outputs": [],
   "source": [
    "model_path = \"./models/marian-finetuned-kde4-en-to-fr\"\n",
    "model = AutoModelForSeq2SeqLM.from_pretrained(model_path)\n",
    "tokenizer = AutoTokenizer.from_pretrained(model_path)\n"
   ]
  },
  {
   "cell_type": "code",
   "execution_count": 3,
   "id": "6c2db389",
   "metadata": {},
   "outputs": [],
   "source": [
    "def translate_en_fr(english_text):\n",
    "    inputs = tokenizer(english_text, return_tensors=\"pt\")\n",
    "    outputs = model.generate(\n",
    "        **inputs,\n",
    "        max_length=128,\n",
    "        num_beams=4,\n",
    "        decoder_start_token_id = model.config.decoder_start_token_id\n",
    "    )\n",
    "    french_text = tokenizer.decode(outputs[0], skip_special_tokens=True)\n",
    "    return french_text"
   ]
  },
  {
   "cell_type": "code",
   "execution_count": 4,
   "id": "3d882dfc",
   "metadata": {},
   "outputs": [
    {
     "data": {
      "text/plain": [
       "'par défaut, développer les fils de discussion. Latin. Latin. Please'"
      ]
     },
     "execution_count": 4,
     "metadata": {},
     "output_type": "execute_result"
    }
   ],
   "source": [
    "translate_en_fr(\"default to expanded threads.\")"
   ]
  },
  {
   "cell_type": "code",
   "execution_count": 5,
   "id": "160236d0",
   "metadata": {},
   "outputs": [
    {
     "data": {
      "text/plain": [
       "\"Impossible d'importer %1 en utilisant le module d'extension d'importation OFX. Ce fichier n'est pas le format correct. lt. shortcut\""
      ]
     },
     "execution_count": 5,
     "metadata": {},
     "output_type": "execute_result"
    }
   ],
   "source": [
    "translate_en_fr(\n",
    "    \"Unable to import %1 using the OFX importer plugin. This file is not the correct format.\"\n",
    ")"
   ]
  },
  {
   "cell_type": "code",
   "execution_count": 6,
   "id": "1b24f074",
   "metadata": {},
   "outputs": [
    {
     "data": {
      "text/plain": [
       "'Courriel du développeur & #160;: jean.smith@microsoft.com'"
      ]
     },
     "execution_count": 6,
     "metadata": {},
     "output_type": "execute_result"
    }
   ],
   "source": [
    "translate_en_fr(\"Developer email: john.smith@microsoft.com\")"
   ]
  }
 ],
 "metadata": {
  "kernelspec": {
   "display_name": ".venv",
   "language": "python",
   "name": "python3"
  },
  "language_info": {
   "codemirror_mode": {
    "name": "ipython",
    "version": 3
   },
   "file_extension": ".py",
   "mimetype": "text/x-python",
   "name": "python",
   "nbconvert_exporter": "python",
   "pygments_lexer": "ipython3",
   "version": "3.12.3"
  }
 },
 "nbformat": 4,
 "nbformat_minor": 5
}
